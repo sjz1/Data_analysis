{
 "cells": [
  {
   "cell_type": "markdown",
   "id": "4d9de65c",
   "metadata": {},
   "source": [
    "# Basic of jupyter "
   ]
  },
  {
   "cell_type": "markdown",
   "id": "3c6d647a",
   "metadata": {},
   "source": [
    "# 1.Pandas의 기초"
   ]
  },
  {
   "cell_type": "code",
   "execution_count": 17,
   "id": "308e0a90",
   "metadata": {},
   "outputs": [],
   "source": [
    "import pandas as pd"
   ]
  },
  {
   "cell_type": "code",
   "execution_count": 18,
   "id": "b310354e",
   "metadata": {},
   "outputs": [],
   "source": [
    "#Pandas 의 DataFrame 생성 \n",
    "names = ['Bob' , 'Jessica', 'Mary' ,'Mel']\n",
    "births = [968, 155, 77, 578, 973]\n",
    "custom = [1,5,25,13, 23232]"
   ]
  },
  {
   "cell_type": "code",
   "execution_count": 19,
   "id": "d6bc5862",
   "metadata": {},
   "outputs": [],
   "source": [
    "BabyDataSet = list(zip(names, births)) #리스트를 묶음\n",
    "df = pd.DataFrame(data = BabyDataSet, columns = ['Names','Births'])"
   ]
  },
  {
   "cell_type": "code",
   "execution_count": 20,
   "id": "f9ba8796",
   "metadata": {},
   "outputs": [
    {
     "data": {
      "text/html": [
       "<div>\n",
       "<style scoped>\n",
       "    .dataframe tbody tr th:only-of-type {\n",
       "        vertical-align: middle;\n",
       "    }\n",
       "\n",
       "    .dataframe tbody tr th {\n",
       "        vertical-align: top;\n",
       "    }\n",
       "\n",
       "    .dataframe thead th {\n",
       "        text-align: right;\n",
       "    }\n",
       "</style>\n",
       "<table border=\"1\" class=\"dataframe\">\n",
       "  <thead>\n",
       "    <tr style=\"text-align: right;\">\n",
       "      <th></th>\n",
       "      <th>Names</th>\n",
       "      <th>Births</th>\n",
       "    </tr>\n",
       "  </thead>\n",
       "  <tbody>\n",
       "    <tr>\n",
       "      <th>0</th>\n",
       "      <td>Bob</td>\n",
       "      <td>968</td>\n",
       "    </tr>\n",
       "    <tr>\n",
       "      <th>1</th>\n",
       "      <td>Jessica</td>\n",
       "      <td>155</td>\n",
       "    </tr>\n",
       "    <tr>\n",
       "      <th>2</th>\n",
       "      <td>Mary</td>\n",
       "      <td>77</td>\n",
       "    </tr>\n",
       "    <tr>\n",
       "      <th>3</th>\n",
       "      <td>Mel</td>\n",
       "      <td>578</td>\n",
       "    </tr>\n",
       "  </tbody>\n",
       "</table>\n",
       "</div>"
      ],
      "text/plain": [
       "     Names  Births\n",
       "0      Bob     968\n",
       "1  Jessica     155\n",
       "2     Mary      77\n",
       "3      Mel     578"
      ]
     },
     "execution_count": 20,
     "metadata": {},
     "output_type": "execute_result"
    }
   ],
   "source": [
    "df.head()\n",
    "#즉 pandas 는 리스트를 엑셀 형식으로 나타내어 준다"
   ]
  },
  {
   "cell_type": "code",
   "execution_count": 22,
   "id": "81ea3f8e",
   "metadata": {},
   "outputs": [
    {
     "name": "stdout",
     "output_type": "stream",
     "text": [
      "Names     object\n",
      "Births     int64\n",
      "dtype: object\n",
      "------------------------------\n",
      "RangeIndex(start=0, stop=4, step=1)\n",
      "------------------------------\n",
      "Index(['Names', 'Births'], dtype='object')\n",
      "------------------------------\n"
     ]
    }
   ],
   "source": [
    "#데이터 프레임의 열 타입 정보를 출력\n",
    "print(df.dtypes)\n",
    "print(\"------------------------------\")\n",
    "\n",
    "#데이터 프레임의 행 정보를 출력\n",
    "print(df.index)\n",
    "print(\"------------------------------\")\n",
    "\n",
    "#데이터 프레임의 열 정보를 출력\n",
    "print(df.columns)\n",
    "print(\"------------------------------\")"
   ]
  },
  {
   "cell_type": "code",
   "execution_count": 24,
   "id": "79fb0217",
   "metadata": {},
   "outputs": [
    {
     "name": "stdout",
     "output_type": "stream",
     "text": [
      "('Bob', 968)\n",
      "('Jessica', 155)\n",
      "('Mary', 77)\n",
      "('Mel', 578)\n"
     ]
    }
   ],
   "source": [
    "for data in zip(names,births): #zip이라는 것은 두개의 리스트를 하나씩 묶어줌\n",
    "    print(data)"
   ]
  },
  {
   "cell_type": "code",
   "execution_count": 25,
   "id": "f3ef5093",
   "metadata": {},
   "outputs": [
    {
     "data": {
      "text/plain": [
       "[('Bob', 968), ('Jessica', 155), ('Mary', 77), ('Mel', 578)]"
      ]
     },
     "execution_count": 25,
     "metadata": {},
     "output_type": "execute_result"
    }
   ],
   "source": [
    "#즉 위에 zip돤 형식을 list로 묶어줌\n",
    "list_zip = list(zip(names,births))\n",
    "list_zip"
   ]
  },
  {
   "cell_type": "code",
   "execution_count": 28,
   "id": "ea7add9c",
   "metadata": {},
   "outputs": [
    {
     "data": {
      "text/plain": [
       "0        Bob\n",
       "1    Jessica\n",
       "2       Mary\n",
       "3        Mel\n",
       "Name: Names, dtype: object"
      ]
     },
     "execution_count": 28,
     "metadata": {},
     "output_type": "execute_result"
    }
   ],
   "source": [
    "#데이터프레임에서 하나의 열을 선택\n",
    "df['Names']"
   ]
  },
  {
   "cell_type": "code",
   "execution_count": 30,
   "id": "83b8c163",
   "metadata": {},
   "outputs": [
    {
     "data": {
      "text/html": [
       "<div>\n",
       "<style scoped>\n",
       "    .dataframe tbody tr th:only-of-type {\n",
       "        vertical-align: middle;\n",
       "    }\n",
       "\n",
       "    .dataframe tbody tr th {\n",
       "        vertical-align: top;\n",
       "    }\n",
       "\n",
       "    .dataframe thead th {\n",
       "        text-align: right;\n",
       "    }\n",
       "</style>\n",
       "<table border=\"1\" class=\"dataframe\">\n",
       "  <thead>\n",
       "    <tr style=\"text-align: right;\">\n",
       "      <th></th>\n",
       "      <th>Names</th>\n",
       "      <th>Births</th>\n",
       "    </tr>\n",
       "  </thead>\n",
       "  <tbody>\n",
       "    <tr>\n",
       "      <th>0</th>\n",
       "      <td>Bob</td>\n",
       "      <td>968</td>\n",
       "    </tr>\n",
       "    <tr>\n",
       "      <th>1</th>\n",
       "      <td>Jessica</td>\n",
       "      <td>155</td>\n",
       "    </tr>\n",
       "  </tbody>\n",
       "</table>\n",
       "</div>"
      ],
      "text/plain": [
       "     Names  Births\n",
       "0      Bob     968\n",
       "1  Jessica     155"
      ]
     },
     "execution_count": 30,
     "metadata": {},
     "output_type": "execute_result"
    }
   ],
   "source": [
    "#데이터프레임의 행을 선택하는 방법(0-2 인텍스를 선택)\n",
    "df[0:2]"
   ]
  },
  {
   "cell_type": "code",
   "execution_count": 31,
   "id": "8dd7d6ce",
   "metadata": {},
   "outputs": [
    {
     "data": {
      "text/html": [
       "<div>\n",
       "<style scoped>\n",
       "    .dataframe tbody tr th:only-of-type {\n",
       "        vertical-align: middle;\n",
       "    }\n",
       "\n",
       "    .dataframe tbody tr th {\n",
       "        vertical-align: top;\n",
       "    }\n",
       "\n",
       "    .dataframe thead th {\n",
       "        text-align: right;\n",
       "    }\n",
       "</style>\n",
       "<table border=\"1\" class=\"dataframe\">\n",
       "  <thead>\n",
       "    <tr style=\"text-align: right;\">\n",
       "      <th></th>\n",
       "      <th>Names</th>\n",
       "      <th>Births</th>\n",
       "    </tr>\n",
       "  </thead>\n",
       "  <tbody>\n",
       "    <tr>\n",
       "      <th>0</th>\n",
       "      <td>Bob</td>\n",
       "      <td>968</td>\n",
       "    </tr>\n",
       "    <tr>\n",
       "      <th>1</th>\n",
       "      <td>Jessica</td>\n",
       "      <td>155</td>\n",
       "    </tr>\n",
       "    <tr>\n",
       "      <th>3</th>\n",
       "      <td>Mel</td>\n",
       "      <td>578</td>\n",
       "    </tr>\n",
       "  </tbody>\n",
       "</table>\n",
       "</div>"
      ],
      "text/plain": [
       "     Names  Births\n",
       "0      Bob     968\n",
       "1  Jessica     155\n",
       "3      Mel     578"
      ]
     },
     "execution_count": 31,
     "metadata": {},
     "output_type": "execute_result"
    }
   ],
   "source": [
    "#Births 열이 100보다 큰 데이터를 선택\n",
    "df[df['Births'] > 100]"
   ]
  },
  {
   "cell_type": "code",
   "execution_count": 32,
   "id": "f46a2d3f",
   "metadata": {},
   "outputs": [
    {
     "data": {
      "text/plain": [
       "Births    444.5\n",
       "dtype: float64"
      ]
     },
     "execution_count": 32,
     "metadata": {},
     "output_type": "execute_result"
    }
   ],
   "source": [
    "#데이터 프레임의 평균값을 계산\n",
    "df.mean()"
   ]
  },
  {
   "cell_type": "code",
   "execution_count": 34,
   "id": "b465e540",
   "metadata": {},
   "outputs": [
    {
     "data": {
      "text/html": [
       "<div>\n",
       "<style scoped>\n",
       "    .dataframe tbody tr th:only-of-type {\n",
       "        vertical-align: middle;\n",
       "    }\n",
       "\n",
       "    .dataframe tbody tr th {\n",
       "        vertical-align: top;\n",
       "    }\n",
       "\n",
       "    .dataframe thead th {\n",
       "        text-align: right;\n",
       "    }\n",
       "</style>\n",
       "<table border=\"1\" class=\"dataframe\">\n",
       "  <thead>\n",
       "    <tr style=\"text-align: right;\">\n",
       "      <th></th>\n",
       "      <th>Births</th>\n",
       "    </tr>\n",
       "  </thead>\n",
       "  <tbody>\n",
       "    <tr>\n",
       "      <th>count</th>\n",
       "      <td>4.000000</td>\n",
       "    </tr>\n",
       "    <tr>\n",
       "      <th>mean</th>\n",
       "      <td>444.500000</td>\n",
       "    </tr>\n",
       "    <tr>\n",
       "      <th>std</th>\n",
       "      <td>412.609985</td>\n",
       "    </tr>\n",
       "    <tr>\n",
       "      <th>min</th>\n",
       "      <td>77.000000</td>\n",
       "    </tr>\n",
       "    <tr>\n",
       "      <th>25%</th>\n",
       "      <td>135.500000</td>\n",
       "    </tr>\n",
       "    <tr>\n",
       "      <th>50%</th>\n",
       "      <td>366.500000</td>\n",
       "    </tr>\n",
       "    <tr>\n",
       "      <th>75%</th>\n",
       "      <td>675.500000</td>\n",
       "    </tr>\n",
       "    <tr>\n",
       "      <th>max</th>\n",
       "      <td>968.000000</td>\n",
       "    </tr>\n",
       "  </tbody>\n",
       "</table>\n",
       "</div>"
      ],
      "text/plain": [
       "           Births\n",
       "count    4.000000\n",
       "mean   444.500000\n",
       "std    412.609985\n",
       "min     77.000000\n",
       "25%    135.500000\n",
       "50%    366.500000\n",
       "75%    675.500000\n",
       "max    968.000000"
      ]
     },
     "execution_count": 34,
     "metadata": {},
     "output_type": "execute_result"
    }
   ],
   "source": [
    "#통계정보를 전부다 보여줌\n",
    "df.describe()"
   ]
  },
  {
   "cell_type": "markdown",
   "id": "fceca2d0",
   "metadata": {},
   "source": [
    "# 2.Numpy에 대해서"
   ]
  },
  {
   "cell_type": "code",
   "execution_count": 35,
   "id": "df3bc0dc",
   "metadata": {},
   "outputs": [],
   "source": [
    "import numpy as np"
   ]
  },
  {
   "cell_type": "code",
   "execution_count": 46,
   "id": "69f276ce",
   "metadata": {},
   "outputs": [
    {
     "name": "stdout",
     "output_type": "stream",
     "text": [
      "[[ 0  1  2  3  4]\n",
      " [ 5  6  7  8  9]\n",
      " [10 11 12 13 14]]\n"
     ]
    }
   ],
   "source": [
    "#이차원 배열을 출력\n",
    "arr1 = np.arange(15).reshape(3, 5)\n",
    "print(arr1)"
   ]
  },
  {
   "cell_type": "code",
   "execution_count": 48,
   "id": "9c63b66f",
   "metadata": {},
   "outputs": [
    {
     "data": {
      "text/plain": [
       "(3, 5)"
      ]
     },
     "execution_count": 48,
     "metadata": {},
     "output_type": "execute_result"
    }
   ],
   "source": [
    "arr1.shape # 배열의 정보확인"
   ]
  },
  {
   "cell_type": "code",
   "execution_count": 49,
   "id": "304b33b3",
   "metadata": {},
   "outputs": [
    {
     "data": {
      "text/plain": [
       "dtype('int32')"
      ]
     },
     "execution_count": 49,
     "metadata": {},
     "output_type": "execute_result"
    }
   ],
   "source": [
    "arr1.dtype # 데이터 타입을 확인"
   ]
  },
  {
   "cell_type": "code",
   "execution_count": 42,
   "id": "cb13d91e",
   "metadata": {},
   "outputs": [
    {
     "data": {
      "text/plain": [
       "array([0, 1, 2, 3, 4, 5, 6, 7, 8, 9])"
      ]
     },
     "execution_count": 42,
     "metadata": {},
     "output_type": "execute_result"
    }
   ],
   "source": [
    "python_ary = [0,1,2,3,4,5,6,7,8,9] # 이게 기본적인 파이썬 배열\n",
    "np.arange(10) #형식은 넘파이 배열 임 "
   ]
  },
  {
   "cell_type": "code",
   "execution_count": 45,
   "id": "3c58fd31",
   "metadata": {},
   "outputs": [
    {
     "name": "stdout",
     "output_type": "stream",
     "text": [
      "<class 'list'>\n",
      "<class 'numpy.ndarray'>\n"
     ]
    }
   ],
   "source": [
    "print(type(python_ary))\n",
    "py2num_ary = np.array(python_ary)\n",
    "print(type(py2num_ary)) "
   ]
  },
  {
   "cell_type": "markdown",
   "id": "a64c1ef7",
   "metadata": {},
   "source": [
    "np를 0 으로 채우기 혹은 1 로 채우기"
   ]
  },
  {
   "cell_type": "code",
   "execution_count": 58,
   "id": "299292f3",
   "metadata": {},
   "outputs": [
    {
     "name": "stdout",
     "output_type": "stream",
     "text": [
      "[[0. 0. 0. 0.]\n",
      " [0. 0. 0. 0.]] \n",
      "\n",
      " [[1. 1. 1.]\n",
      " [1. 1. 1.]\n",
      " [1. 1. 1.]\n",
      " [1. 1. 1.]]\n"
     ]
    }
   ],
   "source": [
    "zero_np_ary = np.zeros((2,4))\n",
    "one_np_ary = np.ones((4,3))\n",
    "print(zero_np_ary,'\\n\\n',one_np_ary)"
   ]
  },
  {
   "cell_type": "markdown",
   "id": "961a0a0b",
   "metadata": {},
   "source": [
    "numpy는 백터나 행렬 연산을 위한 수단이다(단 연산의 대상의 shape이 동일 해야한다)"
   ]
  },
  {
   "cell_type": "code",
   "execution_count": 59,
   "id": "677ab866",
   "metadata": {},
   "outputs": [
    {
     "ename": "ValueError",
     "evalue": "operands could not be broadcast together with shapes (2,4) (4,3) ",
     "output_type": "error",
     "traceback": [
      "\u001b[1;31m---------------------------------------------------------------------------\u001b[0m",
      "\u001b[1;31mValueError\u001b[0m                                Traceback (most recent call last)",
      "\u001b[1;32m<ipython-input-59-e31812838e7d>\u001b[0m in \u001b[0;36m<module>\u001b[1;34m\u001b[0m\n\u001b[0;32m      1\u001b[0m \u001b[1;31m#오류가 나는 경우\u001b[0m\u001b[1;33m\u001b[0m\u001b[1;33m\u001b[0m\u001b[1;33m\u001b[0m\u001b[0m\n\u001b[1;32m----> 2\u001b[1;33m \u001b[0mprint\u001b[0m\u001b[1;33m(\u001b[0m\u001b[0mzero_np_ary\u001b[0m \u001b[1;33m+\u001b[0m \u001b[0mone_np_ary\u001b[0m\u001b[1;33m)\u001b[0m\u001b[1;33m\u001b[0m\u001b[1;33m\u001b[0m\u001b[0m\n\u001b[0m",
      "\u001b[1;31mValueError\u001b[0m: operands could not be broadcast together with shapes (2,4) (4,3) "
     ]
    }
   ],
   "source": [
    "#오류가 나는 경우\n",
    "print(zero_np_ary + one_np_ary)"
   ]
  },
  {
   "cell_type": "code",
   "execution_count": 61,
   "id": "77d3a52e",
   "metadata": {},
   "outputs": [
    {
     "name": "stdout",
     "output_type": "stream",
     "text": [
      "[[2 3 4]\n",
      " [5 6 7]]\n"
     ]
    }
   ],
   "source": [
    "ary_4 = np.array([[1,2,3],\n",
    "                  [4,5,6]], dtype = np.int64)\n",
    "ary_5 = np.array([[1,1,1],\n",
    "                  [1,1,1]], dtype = np.int64)\n",
    "print(ary_4 + ary_5)"
   ]
  },
  {
   "cell_type": "markdown",
   "id": "d862a611",
   "metadata": {},
   "source": [
    "# 3. 시각화 MatPlotlib 사용법"
   ]
  },
  {
   "cell_type": "code",
   "execution_count": 67,
   "id": "71b09b27",
   "metadata": {},
   "outputs": [],
   "source": [
    "#이걸 반드시 적어야 한다\n",
    "%matplotlib inline \n",
    "import matplotlib.pyplot as plt"
   ]
  },
  {
   "cell_type": "code",
   "execution_count": 73,
   "id": "6c4fc29b",
   "metadata": {},
   "outputs": [
    {
     "name": "stdout",
     "output_type": "stream",
     "text": [
      "0        Bob\n",
      "1    Jessica\n",
      "2       Mary\n",
      "3        Mel\n",
      "Name: Names, dtype: object \n",
      "\n",
      " 0    968\n",
      "1    155\n",
      "2     77\n",
      "3    578\n",
      "Name: Births, dtype: int64\n"
     ]
    }
   ],
   "source": [
    "#데이터를 x와 y로 가져옴\n",
    "x= df['Names']\n",
    "y= df['Births']\n",
    "\n",
    "print(x,'\\n\\n',y)"
   ]
  },
  {
   "cell_type": "code",
   "execution_count": 75,
   "id": "86aca259",
   "metadata": {},
   "outputs": [
    {
     "data": {
      "image/png": "[encoded data removed]",
      "text/plain": [
       "<Figure size 432x288 with 1 Axes>"
      ]
     },
     "metadata": {
      "needs_background": "light"
     },
     "output_type": "display_data"
    }
   ],
   "source": [
    "#그래프를 생성\n",
    "plt.bar(x,y) #->막대 그래프의 객체 생성 ,\n",
    "             #plt.scatter(x,y) -> 이런식으로 그래프 선택\n",
    "plt.xlabel('Names') #--->x축의 제목\n",
    "plt.ylabel('Births') #--->y축의 제목\n",
    "plt.title(\"Bar plot\") # ---> 그래프 제목\n",
    "plt.show()  #-> 그래프를 출력"
   ]
  },
  {
   "cell_type": "code",
   "execution_count": 83,
   "id": "08439304",
   "metadata": {},
   "outputs": [
    {
     "data": {
      "image/png": "[encoded data removed]",
      "text/plain": [
       "<Figure size 432x288 with 1 Axes>"
      ]
     },
     "metadata": {
      "needs_background": "light"
     },
     "output_type": "display_data"
    }
   ],
   "source": [
    "#다른그래프를 생성\n",
    "np.random.seed(20220225) # 시드를 고정\n",
    "\n",
    "#scatter plot 데이터를 생성\n",
    "x = np.arange(0.0 , 100.0, 5.0)\n",
    "y = (x +1.5) + np.random.rand(20) * 50\n",
    "\n",
    "plt.scatter(x,y,c='b',alpha= 0.5, label = \"Scatter point\") #->그래프의 객체 생성\n",
    "#alpha는 점들의 크기 label은 설명란\n",
    "plt.legend(loc = 'upper right') #밑에 Scatter point 박스의 위치를 선정 \n",
    "\n",
    "plt.xlabel('X') #--->x축의 제목\n",
    "plt.ylabel('Y') #--->y축의 제목\n",
    "plt.title(\"Scatter plot\") # ---> 그래프 제목\n",
    "plt.show()  #-> 그래프를 출력"
   ]
  },
  {
   "cell_type": "code",
   "execution_count": null,
   "id": "8e1c3ded",
   "metadata": {},
   "outputs": [],
   "source": []
  }
 ],
 "metadata": {
  "kernelspec": {
   "display_name": "Python 3",
   "language": "python",
   "name": "python3"
  },
  "language_info": {
   "codemirror_mode": {
    "name": "ipython",
    "version": 3
   },
   "file_extension": ".py",
   "mimetype": "text/x-python",
   "name": "python",
   "nbconvert_exporter": "python",
   "pygments_lexer": "ipython3",
   "version": "3.8.8"
  }
 },
 "nbformat": 4,
 "nbformat_minor": 5
}
